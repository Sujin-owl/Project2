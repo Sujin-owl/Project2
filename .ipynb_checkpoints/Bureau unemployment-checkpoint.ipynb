{
 "cells": [
  {
   "cell_type": "code",
   "execution_count": 2,
   "metadata": {},
   "outputs": [],
   "source": [
    "#Import dependencies\n",
    "\n",
    "from bs4 import BeautifulSoup\n",
    "import requests\n",
    "from splinter import Browser\n",
    "import pandas as pd\n",
    "from pprint import pprint\n",
    "from urllib.request import urlopen, Request\n",
    "from datetime import datetime\n",
    "from config import password"
   ]
  },
  {
   "cell_type": "markdown",
   "metadata": {},
   "source": [
    "# Abbr"
   ]
  },
  {
   "cell_type": "code",
   "execution_count": 3,
   "metadata": {},
   "outputs": [],
   "source": [
    "#Decided to find a website to scrape the state abbreviations\n",
    "url_abv = \"https://abbreviations.yourdictionary.com/articles/state-abbrev.html\""
   ]
  },
  {
   "cell_type": "code",
   "execution_count": 4,
   "metadata": {},
   "outputs": [],
   "source": [
    "response = requests.get(url_abv)\n",
    "soup = BeautifulSoup(response.text, 'html.parser')"
   ]
  },
  {
   "cell_type": "code",
   "execution_count": 5,
   "metadata": {},
   "outputs": [],
   "source": [
    "#HTML inspect found the values in the li tag\n",
    "results = soup.find_all('li')"
   ]
  },
  {
   "cell_type": "code",
   "execution_count": 6,
   "metadata": {},
   "outputs": [
    {
     "data": {
      "text/plain": [
       "250"
      ]
     },
     "execution_count": 6,
     "metadata": {},
     "output_type": "execute_result"
    }
   ],
   "source": [
    "# total length of li\n",
    "len(results)"
   ]
  },
  {
   "cell_type": "code",
   "execution_count": 7,
   "metadata": {},
   "outputs": [],
   "source": [
    "#strip out only the first 50 li tags that contain the abbreviations\n",
    "ABV = []"
   ]
  },
  {
   "cell_type": "code",
   "execution_count": 8,
   "metadata": {},
   "outputs": [],
   "source": [
    "for i in range(0, 50):\n",
    "    results[i].text\n",
    "    ABV.append(results[i].text)"
   ]
  },
  {
   "cell_type": "code",
   "execution_count": 9,
   "metadata": {},
   "outputs": [],
   "source": [
    "#Take the new lists and seperate the abbreviations from state names into a new lists\n",
    "ABV_new = []\n",
    "State_name = []"
   ]
  },
  {
   "cell_type": "code",
   "execution_count": 10,
   "metadata": {},
   "outputs": [],
   "source": [
    "#abbreviation list\n",
    "for i in range(0, 50):\n",
    "    ABV_clean = ABV[i].split(' - ')[1]\n",
    "    ABV_new.append(ABV_clean.replace(' ',''))"
   ]
  },
  {
   "cell_type": "code",
   "execution_count": 11,
   "metadata": {},
   "outputs": [],
   "source": [
    "# #state name list\n",
    "# for i in range(0, 50):\n",
    "#     ABV_clean = ABV[i].split(' - ')[0]\n",
    "#     State_name.append(ABV_clean.replace(' ',''))"
   ]
  },
  {
   "cell_type": "code",
   "execution_count": 12,
   "metadata": {},
   "outputs": [],
   "source": [
    "#create dataframe\n",
    "All_States_df = pd.DataFrame({'Abbreviation':ABV_new})"
   ]
  },
  {
   "cell_type": "code",
   "execution_count": null,
   "metadata": {},
   "outputs": [],
   "source": []
  },
  {
   "cell_type": "code",
   "execution_count": 13,
   "metadata": {},
   "outputs": [],
   "source": [
    "#Get chromedriver and splinter  up and running\n",
    "\n",
    "executable_path = {'executable_path': 'chromedriver.exe'}\n",
    "browser = Browser('chrome', **executable_path, headless=False)"
   ]
  },
  {
   "cell_type": "code",
   "execution_count": 14,
   "metadata": {},
   "outputs": [],
   "source": [
    "#set url for the article, paragraph, and image\n",
    "\n",
    "url=\"https://www.bls.gov/charts/state-employment-and-unemployment/state-unemployment-rates-animated.htm\"\n",
    "browser.visit(url)"
   ]
  },
  {
   "cell_type": "code",
   "execution_count": 15,
   "metadata": {},
   "outputs": [],
   "source": [
    "browser.click_link_by_partial_text('Show table')"
   ]
  },
  {
   "cell_type": "code",
   "execution_count": 16,
   "metadata": {},
   "outputs": [],
   "source": [
    "RawData = browser.html"
   ]
  },
  {
   "cell_type": "code",
   "execution_count": 17,
   "metadata": {},
   "outputs": [],
   "source": [
    "tables = pd.read_html(RawData)"
   ]
  },
  {
   "cell_type": "code",
   "execution_count": 18,
   "metadata": {},
   "outputs": [],
   "source": [
    "df = tables[0]\n",
    "clean_df = df.drop([8,51])\n",
    "#set index to state to make sure all columns are dates\n",
    "clean_df = clean_df.set_index(\"State\")\n",
    "\n",
    "#convert all column lables to datetime and format as month-year\n",
    "clean_df.columns = pd.to_datetime(clean_df.columns).strftime(\"%b-%Y\")\n",
    "\n",
    "#reset index to get state as it's own column\n",
    "clean_df = clean_df.reset_index()\n"
   ]
  },
  {
   "cell_type": "code",
   "execution_count": 19,
   "metadata": {},
   "outputs": [],
   "source": [
    "result = pd.concat([clean_df, All_States_df], axis=1, sort=False)"
   ]
  },
  {
   "cell_type": "code",
   "execution_count": 20,
   "metadata": {},
   "outputs": [
    {
     "data": {
      "text/html": [
       "<div>\n",
       "<style scoped>\n",
       "    .dataframe tbody tr th:only-of-type {\n",
       "        vertical-align: middle;\n",
       "    }\n",
       "\n",
       "    .dataframe tbody tr th {\n",
       "        vertical-align: top;\n",
       "    }\n",
       "\n",
       "    .dataframe thead th {\n",
       "        text-align: right;\n",
       "    }\n",
       "</style>\n",
       "<table border=\"1\" class=\"dataframe\">\n",
       "  <thead>\n",
       "    <tr style=\"text-align: right;\">\n",
       "      <th></th>\n",
       "      <th>State</th>\n",
       "      <th>Feb-2009</th>\n",
       "      <th>Mar-2009</th>\n",
       "      <th>Apr-2009</th>\n",
       "      <th>May-2009</th>\n",
       "      <th>Jun-2009</th>\n",
       "      <th>Jul-2009</th>\n",
       "      <th>Aug-2009</th>\n",
       "      <th>Sep-2009</th>\n",
       "      <th>Oct-2009</th>\n",
       "      <th>...</th>\n",
       "      <th>Jun-2018</th>\n",
       "      <th>Jul-2018</th>\n",
       "      <th>Aug-2018</th>\n",
       "      <th>Sep-2018</th>\n",
       "      <th>Oct-2018</th>\n",
       "      <th>Nov-2018</th>\n",
       "      <th>Dec-2018</th>\n",
       "      <th>Jan-2019</th>\n",
       "      <th>Feb-2019</th>\n",
       "      <th>Abbreviation</th>\n",
       "    </tr>\n",
       "  </thead>\n",
       "  <tbody>\n",
       "    <tr>\n",
       "      <th>31</th>\n",
       "      <td>New York</td>\n",
       "      <td>7.5</td>\n",
       "      <td>7.8</td>\n",
       "      <td>8.1</td>\n",
       "      <td>8.3</td>\n",
       "      <td>8.4</td>\n",
       "      <td>8.5</td>\n",
       "      <td>8.7</td>\n",
       "      <td>8.8</td>\n",
       "      <td>8.8</td>\n",
       "      <td>...</td>\n",
       "      <td>4.1</td>\n",
       "      <td>4.0</td>\n",
       "      <td>3.9</td>\n",
       "      <td>3.8</td>\n",
       "      <td>3.8</td>\n",
       "      <td>3.9</td>\n",
       "      <td>3.9</td>\n",
       "      <td>3.9</td>\n",
       "      <td>3.9</td>\n",
       "      <td>NY</td>\n",
       "    </tr>\n",
       "  </tbody>\n",
       "</table>\n",
       "<p>1 rows × 123 columns</p>\n",
       "</div>"
      ],
      "text/plain": [
       "       State  Feb-2009  Mar-2009  Apr-2009  May-2009  Jun-2009  Jul-2009  \\\n",
       "31  New York       7.5       7.8       8.1       8.3       8.4       8.5   \n",
       "\n",
       "    Aug-2009  Sep-2009  Oct-2009      ...       Jun-2018  Jul-2018  Aug-2018  \\\n",
       "31       8.7       8.8       8.8      ...            4.1       4.0       3.9   \n",
       "\n",
       "    Sep-2018  Oct-2018  Nov-2018  Dec-2018  Jan-2019  Feb-2019  Abbreviation  \n",
       "31       3.8       3.8       3.9       3.9       3.9       3.9            NY  \n",
       "\n",
       "[1 rows x 123 columns]"
      ]
     },
     "execution_count": 20,
     "metadata": {},
     "output_type": "execute_result"
    }
   ],
   "source": [
    "result[result[\"Abbreviation\"]==\"NY\"]"
   ]
  },
  {
   "cell_type": "code",
   "execution_count": 21,
   "metadata": {},
   "outputs": [],
   "source": [
    "import pymysql\n",
    "from config import password\n",
    "pymysql.install_as_MySQLdb()\n",
    "\n",
    "from sqlalchemy.ext.declarative import declarative_base\n",
    "Base = declarative_base()\n",
    "\n",
    "from sqlalchemy import Column, Integer, String, Float\n",
    "\n",
    "from sqlalchemy import create_engine"
   ]
  },
  {
   "cell_type": "code",
   "execution_count": 22,
   "metadata": {},
   "outputs": [],
   "source": [
    "dbuser = 'root'\n",
    "dbpassword = password\n",
    "dbhost = 'localhost'\n",
    "dbport = '3306'\n",
    "dbname= 'project2'\n",
    "\n",
    "engine = create_engine(f\"mysql://{dbuser}:{dbpassword}@{dbhost}:{dbport}/{dbname}\")\n",
    "\n",
    "result.to_sql('unemployment', engine, index=True, if_exists=\"replace\")"
   ]
  },
  {
   "cell_type": "code",
   "execution_count": null,
   "metadata": {},
   "outputs": [],
   "source": []
  },
  {
   "cell_type": "code",
   "execution_count": 24,
   "metadata": {},
   "outputs": [
    {
     "data": {
      "text/html": [
       "<div>\n",
       "<style scoped>\n",
       "    .dataframe tbody tr th:only-of-type {\n",
       "        vertical-align: middle;\n",
       "    }\n",
       "\n",
       "    .dataframe tbody tr th {\n",
       "        vertical-align: top;\n",
       "    }\n",
       "\n",
       "    .dataframe thead th {\n",
       "        text-align: right;\n",
       "    }\n",
       "</style>\n",
       "<table border=\"1\" class=\"dataframe\">\n",
       "  <thead>\n",
       "    <tr style=\"text-align: right;\">\n",
       "      <th></th>\n",
       "      <th>State</th>\n",
       "      <th>Feb-2009</th>\n",
       "      <th>Mar-2009</th>\n",
       "      <th>Apr-2009</th>\n",
       "      <th>May-2009</th>\n",
       "      <th>Jun-2009</th>\n",
       "      <th>Jul-2009</th>\n",
       "      <th>Aug-2009</th>\n",
       "      <th>Sep-2009</th>\n",
       "      <th>Oct-2009</th>\n",
       "      <th>...</th>\n",
       "      <th>Jun-2018</th>\n",
       "      <th>Jul-2018</th>\n",
       "      <th>Aug-2018</th>\n",
       "      <th>Sep-2018</th>\n",
       "      <th>Oct-2018</th>\n",
       "      <th>Nov-2018</th>\n",
       "      <th>Dec-2018</th>\n",
       "      <th>Jan-2019</th>\n",
       "      <th>Feb-2019</th>\n",
       "      <th>Abbreviation</th>\n",
       "    </tr>\n",
       "  </thead>\n",
       "  <tbody>\n",
       "    <tr>\n",
       "      <th>31</th>\n",
       "      <td>New York</td>\n",
       "      <td>7.5</td>\n",
       "      <td>7.8</td>\n",
       "      <td>8.1</td>\n",
       "      <td>8.3</td>\n",
       "      <td>8.4</td>\n",
       "      <td>8.5</td>\n",
       "      <td>8.7</td>\n",
       "      <td>8.8</td>\n",
       "      <td>8.8</td>\n",
       "      <td>...</td>\n",
       "      <td>4.1</td>\n",
       "      <td>4.0</td>\n",
       "      <td>3.9</td>\n",
       "      <td>3.8</td>\n",
       "      <td>3.8</td>\n",
       "      <td>3.9</td>\n",
       "      <td>3.9</td>\n",
       "      <td>3.9</td>\n",
       "      <td>3.9</td>\n",
       "      <td>NY</td>\n",
       "    </tr>\n",
       "  </tbody>\n",
       "</table>\n",
       "<p>1 rows × 123 columns</p>\n",
       "</div>"
      ],
      "text/plain": [
       "       State  Feb-2009  Mar-2009  Apr-2009  May-2009  Jun-2009  Jul-2009  \\\n",
       "31  New York       7.5       7.8       8.1       8.3       8.4       8.5   \n",
       "\n",
       "    Aug-2009  Sep-2009  Oct-2009      ...       Jun-2018  Jul-2018  Aug-2018  \\\n",
       "31       8.7       8.8       8.8      ...            4.1       4.0       3.9   \n",
       "\n",
       "    Sep-2018  Oct-2018  Nov-2018  Dec-2018  Jan-2019  Feb-2019  Abbreviation  \n",
       "31       3.8       3.8       3.9       3.9       3.9       3.9            NY  \n",
       "\n",
       "[1 rows x 123 columns]"
      ]
     },
     "execution_count": 24,
     "metadata": {},
     "output_type": "execute_result"
    }
   ],
   "source": [
    "result[result[\"Abbreviation\"]==\"NY\"]"
   ]
  },
  {
   "cell_type": "code",
   "execution_count": null,
   "metadata": {},
   "outputs": [],
   "source": []
  },
  {
   "cell_type": "code",
   "execution_count": null,
   "metadata": {},
   "outputs": [],
   "source": []
  },
  {
   "cell_type": "code",
   "execution_count": null,
   "metadata": {},
   "outputs": [],
   "source": []
  },
  {
   "cell_type": "code",
   "execution_count": null,
   "metadata": {},
   "outputs": [],
   "source": []
  },
  {
   "cell_type": "code",
   "execution_count": null,
   "metadata": {},
   "outputs": [],
   "source": []
  },
  {
   "cell_type": "code",
   "execution_count": null,
   "metadata": {},
   "outputs": [],
   "source": []
  },
  {
   "cell_type": "code",
   "execution_count": null,
   "metadata": {},
   "outputs": [],
   "source": []
  }
 ],
 "metadata": {
  "kernelspec": {
   "display_name": "Python 3",
   "language": "python",
   "name": "python3"
  },
  "language_info": {
   "codemirror_mode": {
    "name": "ipython",
    "version": 3
   },
   "file_extension": ".py",
   "mimetype": "text/x-python",
   "name": "python",
   "nbconvert_exporter": "python",
   "pygments_lexer": "ipython3",
   "version": "3.7.0"
  }
 },
 "nbformat": 4,
 "nbformat_minor": 2
}
