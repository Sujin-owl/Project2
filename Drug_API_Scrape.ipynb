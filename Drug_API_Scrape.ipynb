{
 "cells": [
  {
   "cell_type": "code",
   "execution_count": 65,
   "metadata": {},
   "outputs": [],
   "source": [
    "#import dependencies\n",
    "import pandas as pd\n",
    "import numpy as np\n",
    "import requests\n",
    "import json\n",
    "from pprint import pprint\n",
    "\n",
    "#import Socrata to pull API data...may need to run pip install sodapy\n",
    "from sodapy import Socrata\n",
    "\n",
    "#import password for mySQL from config.py.\n",
    "from config import password\n",
    "\n",
    "#import app_token (if desired) from app_token.py to prevent limited pull requests\n",
    "from app_token import app_token"
   ]
  },
  {
   "cell_type": "code",
   "execution_count": 66,
   "metadata": {},
   "outputs": [],
   "source": [
    "#call Socrata without app_token\n",
    "client = Socrata(\"data.cdc.gov\", None)\n",
    "\n",
    "# # Example authenticated client (needed for non-public datasets):\n",
    "# client = Socrata(\"data.cdc.gov\", app_token)\n",
    "\n",
    "#requests result, limit is 25000 to ensure full data is pulled\n",
    "results = client.get(\"a3uk-kgrx\", limit=\"25000\")\n",
    "\n",
    "# Convert to pandas DataFrame\n",
    "drug_df = pd.DataFrame.from_records(results)"
   ]
  },
  {
   "cell_type": "code",
   "execution_count": 74,
   "metadata": {},
   "outputs": [],
   "source": [
    "#push dataframe contents to mysql\n",
    "\n",
    "import pymysql\n",
    "pymysql.install_as_MySQLdb()\n",
    "from sqlalchemy import create_engine\n",
    "\n",
    "dbuser = 'root'\n",
    "#read in password from config.py file\n",
    "dbpassword = password\n",
    "dbhost = 'localhost'\n",
    "dbport = '3306'\n",
    "\n",
    "#database name is Project2 (need to create this locally)\n",
    "dbname= 'Project2'\n",
    "\n",
    "engine = create_engine(f\"mysql://{dbuser}:{dbpassword}@{dbhost}:{dbport}/{dbname}\")\n",
    "\n",
    "# state_cons_df\n",
    "drug_df.to_sql('drug', engine, index=True, if_exists=\"replace\")"
   ]
  },
  {
   "cell_type": "code",
   "execution_count": 68,
   "metadata": {},
   "outputs": [],
   "source": []
  },
  {
   "cell_type": "code",
   "execution_count": null,
   "metadata": {},
   "outputs": [],
   "source": []
  },
  {
   "cell_type": "code",
   "execution_count": null,
   "metadata": {},
   "outputs": [],
   "source": []
  }
 ],
 "metadata": {
  "kernelspec": {
   "display_name": "Python 3",
   "language": "python",
   "name": "python3"
  },
  "language_info": {
   "codemirror_mode": {
    "name": "ipython",
    "version": 3
   },
   "file_extension": ".py",
   "mimetype": "text/x-python",
   "name": "python",
   "nbconvert_exporter": "python",
   "pygments_lexer": "ipython3",
   "version": "3.7.0"
  }
 },
 "nbformat": 4,
 "nbformat_minor": 2
}
