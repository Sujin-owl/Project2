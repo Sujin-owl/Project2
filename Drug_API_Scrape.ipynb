{
 "cells": [
  {
   "cell_type": "code",
   "execution_count": 3,
   "metadata": {},
   "outputs": [],
   "source": [
    "import pandas as pd\n",
    "import numpy as np\n",
    "import requests\n",
    "import json\n",
    "from pprint import pprint\n",
    "from config import password"
   ]
  },
  {
   "cell_type": "code",
   "execution_count": 4,
   "metadata": {},
   "outputs": [],
   "source": [
    "#drug overdose API\n",
    "drug_url = \"https://data.cdc.gov/resource/a3uk-kgrx.json\"\n",
    "drug_data = requests.get(drug_url).json()"
   ]
  },
  {
   "cell_type": "code",
   "execution_count": 5,
   "metadata": {},
   "outputs": [],
   "source": [
    "#create empty lists to breakout data from API call\n",
    "data_value=[]\n",
    "footnote=[]\n",
    "indicator=[]\n",
    "month=[]\n",
    "percent_complete=[]\n",
    "percent_pending_investigation = []\n",
    "state = []\n",
    "state_name = []\n",
    "year = []"
   ]
  },
  {
   "cell_type": "code",
   "execution_count": 6,
   "metadata": {},
   "outputs": [],
   "source": [
    "#loop through API results and store in individual lists\n",
    "\n",
    "for i in range(0, len(drug_data)):\n",
    "    data_value.append(drug_data[i][\"data_value\"])\n",
    "    footnote.append(drug_data[i][\"footnote\"])\n",
    "    indicator.append(drug_data[i][\"indicator\"])\n",
    "    month.append(drug_data[i][\"month\"])\n",
    "    percent_complete.append(drug_data[i][\"percent_complete\"])\n",
    "    percent_pending_investigation.append(drug_data[i][\"percent_pending_investigation\"])\n",
    "    state.append(drug_data[i][\"state\"])\n",
    "    state_name.append(drug_data[i][\"state_name\"])\n",
    "    year.append(drug_data[i][\"year\"])"
   ]
  },
  {
   "cell_type": "code",
   "execution_count": 7,
   "metadata": {},
   "outputs": [],
   "source": [
    "#create empty dataframe for drug values\n",
    "drug_df = pd.DataFrame()"
   ]
  },
  {
   "cell_type": "code",
   "execution_count": 8,
   "metadata": {},
   "outputs": [],
   "source": [
    "#populate dataframe\n",
    "drug_df[\"data_value\"] = data_value\n",
    "drug_df[\"footnote\"] = footnote\n",
    "drug_df[\"indicator\"] = indicator\n",
    "drug_df[\"month\"] = month\n",
    "drug_df[\"percent_complete\"] = percent_complete\n",
    "drug_df[\"percent_pending_investigation\"] = percent_pending_investigation\n",
    "drug_df[\"state\"] = state\n",
    "drug_df[\"state_name\"] = state_name\n",
    "drug_df[\"year\"] = year\n"
   ]
  },
  {
   "cell_type": "code",
   "execution_count": 9,
   "metadata": {},
   "outputs": [],
   "source": [
    "import pymysql\n",
    "pymysql.install_as_MySQLdb()\n",
    "from sqlalchemy.types import VARCHAR\n",
    "\n",
    "from sqlalchemy.ext.declarative import declarative_base\n",
    "Base = declarative_base()\n",
    "\n",
    "from sqlalchemy import Column, Integer, String, Float\n",
    "\n",
    "from sqlalchemy import create_engine\n",
    "\n",
    "dbuser = 'root'\n",
    "dbpassword = password\n",
    "dbhost = 'localhost'\n",
    "dbport = '3306'\n",
    "dbname= 'Project2'"
   ]
  },
  {
   "cell_type": "code",
   "execution_count": 10,
   "metadata": {},
   "outputs": [],
   "source": [
    "engine = create_engine(f\"mysql://{dbuser}:{dbpassword}@{dbhost}:{dbport}/{dbname}\")\n",
    "\n",
    "# state_cons_df\n",
    "drug_df.to_sql('drug', engine, index=True, if_exists=\"replace\")"
   ]
  },
  {
   "cell_type": "code",
   "execution_count": null,
   "metadata": {},
   "outputs": [],
   "source": []
  }
 ],
 "metadata": {
  "kernelspec": {
   "display_name": "Python 3",
   "language": "python",
   "name": "python3"
  },
  "language_info": {
   "codemirror_mode": {
    "name": "ipython",
    "version": 3
   },
   "file_extension": ".py",
   "mimetype": "text/x-python",
   "name": "python",
   "nbconvert_exporter": "python",
   "pygments_lexer": "ipython3",
   "version": "3.7.0"
  }
 },
 "nbformat": 4,
 "nbformat_minor": 2
}
